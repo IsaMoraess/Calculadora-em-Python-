{
 "cells": [
  {
   "cell_type": "code",
   "execution_count": null,
   "id": "196cfe8c",
   "metadata": {},
   "outputs": [
    {
     "name": "stdout",
     "output_type": "stream",
     "text": [
      "Selecione a operação:\n",
      "1. Adição\n",
      "2. Subtração\n",
      "3. Multiplicação\n",
      "4. Divisão\n",
      "Digite sua opção (1/2/3/4): 1\n",
      "Digite o primeiro número: 45\n",
      "Digite o segundo número: 67\n",
      "O resultado da adição é: 112.0\n"
     ]
    }
   ],
   "source": [
    "def calculadora():\n",
    "    print(\"Selecione a operação:\")\n",
    "    print(\"1. Adição\")\n",
    "    print(\"2. Subtração\")\n",
    "    print(\"3. Multiplicação\")\n",
    "    print(\"4. Divisão\")\n",
    "\n",
    "    escolha = input(\"Digite sua opção (1/2/3/4): \")\n",
    "\n",
    "    num1 = float(input(\"Digite o primeiro número: \"))\n",
    "    num2 = float(input(\"Digite o segundo número: \"))\n",
    "\n",
    "    if escolha == '1':\n",
    "        resultado = num1 + num2\n",
    "        print(\"O resultado da adição é:\", resultado)\n",
    "    elif escolha == '2':\n",
    "        resultado = num1 - num2\n",
    "        print(\"O resultado da subtração é:\", resultado)\n",
    "    elif escolha == '3':\n",
    "        resultado = num1 * num2\n",
    "        print(\"O resultado da multiplicação é:\", resultado)\n",
    "    elif escolha == '4':\n",
    "        if num2 != 0:\n",
    "            resultado = num1 / num2\n",
    "            print(\"O resultado da divisão é:\", resultado)\n",
    "        else:\n",
    "            print(\"Erro: divisão por zero não é permitida.\")\n",
    "    else:\n",
    "        print(\"Opção inválida. Por favor, escolha uma opção válida.\")\n",
    "\n",
    "    novamente = input(\"Deseja fazer outra operação? (s/n): \")\n",
    "    if novamente.lower() == 's':\n",
    "        calculadora()\n",
    "    else:\n",
    "        print(\"Encerrando a calculadora.\")\n",
    "\n",
    "calculadora()\n"
   ]
  },
  {
   "cell_type": "code",
   "execution_count": null,
   "id": "17928cb9",
   "metadata": {},
   "outputs": [],
   "source": []
  }
 ],
 "metadata": {
  "kernelspec": {
   "display_name": "Python 3 (ipykernel)",
   "language": "python",
   "name": "python3"
  },
  "language_info": {
   "codemirror_mode": {
    "name": "ipython",
    "version": 3
   },
   "file_extension": ".py",
   "mimetype": "text/x-python",
   "name": "python",
   "nbconvert_exporter": "python",
   "pygments_lexer": "ipython3",
   "version": "3.9.13"
  }
 },
 "nbformat": 4,
 "nbformat_minor": 5
}
